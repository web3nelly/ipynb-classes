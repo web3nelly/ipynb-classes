{
 "cells": [
  {
   "cell_type": "markdown",
   "id": "ee7d76bc-a18d-4203-b439-4f29377575e6",
   "metadata": {},
   "source": [
    "# Example Python Class Syntax & Usage\n",
    "## (*A b3nelly & ChatGPT 4 Collaboration*)\n",
    "#### From JavaScript, to PHP, back to JS...Python, WHERE have you been my whole life?!\n",
    "\n",
    "\n",
    "To create a class file, you first need to define your class in a separate Python file, then import and use it in another file. You can't destructure methods like you can with objects in JavaScript, but you can directly import specific methods or attributes if needed.\n",
    "\n",
    "**Example**:\n",
    "\n",
    "1. Create a file called `class_example.py` and define your class:"
   ]
  },
  {
   "cell_type": "code",
   "execution_count": null,
   "id": "644e0f1c-d18a-4679-a06e-c9e9f5747a2e",
   "metadata": {},
   "outputs": [],
   "source": [
    "# class_example.py\n",
    "class ClassExample:\n",
    "    def __init__(self, name):\n",
    "        self.name = name\n",
    "\n",
    "    def greet(self):\n",
    "        print(f\"Hello, {self.name}!\")\n",
    "\n",
    "    def say_goodbye(self):\n",
    "        print(f\"Goodbye, {self.name}!\")"
   ]
  },
  {
   "cell_type": "markdown",
   "id": "1db0287a-fff4-4a2a-9304-8e322e4e9c3d",
   "metadata": {},
   "source": [
    "2. Create another file called `main.py` and import the class:"
   ]
  },
  {
   "cell_type": "code",
   "execution_count": null,
   "id": "5e17af28-e9a2-476b-a6e3-dce8901dbf91",
   "metadata": {
    "tags": []
   },
   "outputs": [],
   "source": [
    "# main.py\n",
    "from class_example import ClassExample\n",
    "\n",
    "# Create an instance of ClassExample\n",
    "example_instance = ClassExample(\"John Doe\")\n",
    "\n",
    "# Use the methods of MyClass\n",
    "example_instance.greet()\n",
    "example_instance.say_goodbye()"
   ]
  },
  {
   "cell_type": "markdown",
   "id": "850bdc4c-d1c0-47a3-8140-eb44c005d6e6",
   "metadata": {},
   "source": [
    "3. If you want to import specific methods or attributes, you can do so like this:"
   ]
  },
  {
   "cell_type": "code",
   "execution_count": null,
   "id": "e4fa7f54-8e06-407d-bb0c-988962625edc",
   "metadata": {},
   "outputs": [],
   "source": [
    "# main.py\n",
    "from class_example import ClassExample, greet, say_goodbye\n",
    "\n",
    "# Create an instance of MyClass\n",
    "example_instance = ClassExample(\"John Doe\")\n",
    "\n",
    "# Use the methods of MyClass\n",
    "greet(example_instance)\n",
    "say_goodbye(example_instance)"
   ]
  },
  {
   "cell_type": "markdown",
   "id": "f7ab7b94-6571-44ef-a3f2-dbf5f58730b9",
   "metadata": {},
   "source": [
    "*Note that this last approach is less common, and you would need to modify your class to make the methods standalone functions that take the instance as an argument.*\n",
    "\n",
    "For **Jupyter Notebook**, you can create two separate cells and run them sequentially, or you can create two separate notebooks and use the `%run` magic command to execute the first notebook containing the class definition before running the second one.\n",
    "\n",
    "To use the `%run` magic command, you would do the following:\n",
    "\n",
    "1. Save the class definition as `class_example.ipynb`.\n",
    "2. In a new Jupyter Notebook, use the `%run` magic command:"
   ]
  },
  {
   "cell_type": "code",
   "execution_count": null,
   "id": "dd50bcf8-6cbf-4169-be39-a5080d27a6ec",
   "metadata": {},
   "outputs": [],
   "source": [
    "%run class_example.ipynb\n",
    "\n",
    "example_instance = ClassExample(\"John Doe\")\n",
    "example_instance.greet()\n",
    "example_instance.say_goodbye()"
   ]
  },
  {
   "cell_type": "markdown",
   "id": "6aab02b2-e09d-43ea-b319-134c02544e0d",
   "metadata": {},
   "source": [
    "## Examples of both @classmethod and @staticmethod\n",
    "\n",
    "A class method takes a reference to the class itself as its first parameter, usually named `cls`. You can use this parameter to access class variables or other class methods. Class methods can be called on the class itself or on an instance of the class.\n",
    "\n",
    "A static method doesn't take any special first parameter, like `self` or `cls`. It behaves like a regular function, but it's defined within the class's namespace. Static methods can't access or modify instance or class variables directly, and they don't depend on the state of the class or its instances. Static methods can be called on the class itself or on an instance of the class."
   ]
  },
  {
   "cell_type": "code",
   "execution_count": null,
   "id": "67736580-1413-433e-b8b6-33fb9285fb21",
   "metadata": {},
   "outputs": [],
   "source": [
    "class MyClass:\n",
    "    # Class variable\n",
    "    some_value = 42\n",
    "\n",
    "    def __init__(self, name):\n",
    "        self.name = name\n",
    "\n",
    "    # Instance method\n",
    "    def greet(self):\n",
    "        print(f\"Hello, {self.name}!\")\n",
    "\n",
    "    # Class method\n",
    "    @classmethod\n",
    "    def print_some_value(cls):\n",
    "        print(f\"Class method: some_value is {cls.some_value}\")\n",
    "\n",
    "    # Static method\n",
    "    @staticmethod\n",
    "    def print_hello():\n",
    "        print(\"Static method: Hello!\")\n",
    "\n",
    "# Create an instance of MyClass\n",
    "my_instance = MyClass(\"John\")\n",
    "\n",
    "# Call the instance method\n",
    "my_instance.greet()  # Output: Hello, John!\n",
    "\n",
    "# Call the class method\n",
    "MyClass.print_some_value()  # Output: Class method: some_value is 42\n",
    "my_instance.print_some_value()  # You can also call the class method on an instance\n",
    "\n",
    "# Call the static method\n",
    "MyClass.print_hello()  # Output: Static method: Hello!\n",
    "my_instance.print_hello()  # You can also call the static method on an instance"
   ]
  },
  {
   "cell_type": "markdown",
   "id": "4de38306-3f7a-42f4-9387-d1140351e585",
   "metadata": {},
   "source": [
    "## Naming Conventions\n",
    "\n",
    "In **Python**, naming conventions are quite different from other open source laguages, like **PHP** and **JavaScript**. The most common naming conventions are defined in the [PEP 8 style guide](https://peps.python.org/pep-0008/), which is widely adopted by the Python community. Here's a summary of the conventions you should follow:\n",
    "\n",
    "1. **File names**: Use lowercase letters and separate words with underscores (snake_case). For example, `my_class.py` or `another_example.py`.\n",
    "\n",
    "2. **Class names**: Use PascalCase (also known as CapWords or CamelCase). Each word in the class name starts with an uppercase letter, and there are no underscores between words. For example, `MyClass`, `AnotherExample`.\n",
    "\n",
    "3. **Method and function names**: Use lowercase letters and separate words with underscores (snake_case). For example, `my_method`, `another_example`.\n",
    "\n",
    "4. **Variable names**: Use lowercase letters and separate words with underscores (snake_case). For example, `my_variable`, `another_example`.\n",
    "\n",
    "5. **Constants**: Use uppercase letters and separate words with underscores. For example, `MY_CONSTANT`, `ANOTHER_EXAMPLE`.\n",
    "\n",
    "These conventions apply to both regular Python files and Jupyter Notebooks. In Jupyter Notebooks, you'll mostly follow the same conventions for class, method, function, and variable names, since the code is still written in Python. The only difference is that the file extension is `.ipynb` for Jupyter Notebooks."
   ]
  },
  {
   "cell_type": "code",
   "execution_count": null,
   "id": "30601971-52df-4452-9086-dc77f8069c23",
   "metadata": {},
   "outputs": [],
   "source": [
    "# File: my_class.py\n",
    "\n",
    "# Class name\n",
    "class MyClass:\n",
    "    # Method name\n",
    "    def my_method(self):\n",
    "        # Variable name\n",
    "        my_variable = 10\n",
    "        return my_variable\n",
    "\n",
    "# Function name\n",
    "def another_example():\n",
    "    # Constant name\n",
    "    ANOTHER_EXAMPLE = 42\n",
    "    return ANOTHER_EXAMPLE"
   ]
  }
 ],
 "metadata": {
  "kernelspec": {
   "display_name": "Python 3 (ipykernel)",
   "language": "python",
   "name": "python3"
  },
  "language_info": {
   "codemirror_mode": {
    "name": "ipython",
    "version": 3
   },
   "file_extension": ".py",
   "mimetype": "text/x-python",
   "name": "python",
   "nbconvert_exporter": "python",
   "pygments_lexer": "ipython3",
   "version": "3.10.9"
  }
 },
 "nbformat": 4,
 "nbformat_minor": 5
}
