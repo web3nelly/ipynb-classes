{
 "cells": [
  {
   "cell_type": "code",
   "execution_count": 4,
   "id": "234ce955-3498-47df-8136-97e5cca057da",
   "metadata": {
    "execution": {
     "iopub.execute_input": "2023-04-27T03:26:21.585927Z",
     "iopub.status.busy": "2023-04-27T03:26:21.585927Z",
     "iopub.status.idle": "2023-04-27T03:26:21.595951Z",
     "shell.execute_reply": "2023-04-27T03:26:21.595951Z",
     "shell.execute_reply.started": "2023-04-27T03:26:21.585927Z"
    },
    "tags": []
   },
   "outputs": [],
   "source": [
    "import pandas as pd\n",
    "import numpy as np\n",
    "import joblib\n",
    "\n",
    "class B3nellyDataFrameHandler:\n",
    "    \n",
    "    def __init__(self, df=None):\n",
    "        if df is None:\n",
    "            df = pd.DataFrame()\n",
    "        self.df = df\n",
    "\n",
    "    def clean_df(self, \n",
    "                 remove_cols_by_names=None, \n",
    "                 drop_na=True, \n",
    "                 to_lowercase=True, \n",
    "                 rename_cols=None\n",
    "                ):\n",
    "        self.remove_cols(remove_cols_by_names)\n",
    "        self.drop_na(drop_na)\n",
    "        self.rename_cols(rename_cols)\n",
    "        self.set_col_names_to_lowercase(to_lowercase)\n",
    "\n",
    "    def remove_cols(self, remove_col_names=None):\n",
    "        if remove_col_names is None:\n",
    "            return\n",
    "        self.df = self.df.drop(remove_col_names, axis=1)\n",
    "\n",
    "    def set_col_names_to_lowercase(self, to_lowercase=True):\n",
    "        if to_lowercase:\n",
    "            self.df.columns = self.df.columns.str.lower()\n",
    "\n",
    "    def drop_na(self, drop_na=True):\n",
    "        if drop_na:\n",
    "            self.df = self.df.dropna()\n",
    "\n",
    "    def rename_cols(self, new_col_names=None):\n",
    "        if new_col_names is None:\n",
    "            return\n",
    "\n",
    "        for old_col_name in new_col_names.keys():\n",
    "            if old_col_name not in self.df.columns:\n",
    "                raise ValueError(f\"Column '{old_col_name}' was not found in DataFrame\")\n",
    "\n",
    "        self.df = self.df.rename(columns=new_col_names)\n",
    "\n",
    "    def prepare_df(self, predict_on_col_name=\"close\", prediction_col_name=\"tomorrow\", steps_forward=1):\n",
    "        self.set_tomorrow(predict_on_col_name, prediction_col_name, steps_forward)\n",
    "        self.set_training_target(self, target_col_name=\"target\")\n",
    "        self.drop_na(drop_na)\n",
    "\n",
    "    def set_tomorrow(self, predict_on_col_name=\"close\", prediction_col_name=\"tomorrow\", steps_forward=1):\n",
    "        if predict_on_col_name not in self.df.columns:\n",
    "            raise ValueError(f\"Column '{predict_on_col_name}' not found in DataFrame\")\n",
    "\n",
    "        self.df[prediction_col_name] = self.df[predict_on_col_name].shift(-steps_forward)\n",
    "\n",
    "    def set_training_target(self,prediction_col_name, predict_on_col_name, target_col_name=\"target\"):\n",
    "        if prediction_col_name not in self.df.columns or predict_on_col_name not in self.df.columns:\n",
    "            raise ValueError(f\"Both prediction_col_name:{prediction_col_name} and predict_on_col_name:{predict_on_col_name} columns must exist in the DataFrame.\")\n",
    "\n",
    "        self.df[target_col_name] = (self.df[\"tomorrow\"] > self.df[\"close\"]).astype(int)"
   ]
  },
  {
   "cell_type": "code",
   "execution_count": null,
   "id": "dc7035de-7291-457b-9c64-963c3dc37a3a",
   "metadata": {},
   "outputs": [],
   "source": []
  }
 ],
 "metadata": {
  "kernelspec": {
   "display_name": "Python 3 (ipykernel)",
   "language": "python",
   "name": "python3"
  },
  "language_info": {
   "codemirror_mode": {
    "name": "ipython",
    "version": 3
   },
   "file_extension": ".py",
   "mimetype": "text/x-python",
   "name": "python",
   "nbconvert_exporter": "python",
   "pygments_lexer": "ipython3",
   "version": "3.10.9"
  }
 },
 "nbformat": 4,
 "nbformat_minor": 5
}
