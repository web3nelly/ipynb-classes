{
 "cells": [
  {
   "cell_type": "code",
   "execution_count": 5,
   "id": "234ce955-3498-47df-8136-97e5cca057da",
   "metadata": {
    "execution": {
     "iopub.execute_input": "2023-04-27T02:25:09.013621Z",
     "iopub.status.busy": "2023-04-27T02:25:09.012619Z",
     "iopub.status.idle": "2023-04-27T02:25:09.028174Z",
     "shell.execute_reply": "2023-04-27T02:25:09.027174Z",
     "shell.execute_reply.started": "2023-04-27T02:25:09.013621Z"
    },
    "tags": []
   },
   "outputs": [
    {
     "ename": "SyntaxError",
     "evalue": "invalid syntax (125654333.py, line 40)",
     "output_type": "error",
     "traceback": [
      "\u001b[1;36m  Cell \u001b[1;32mIn[5], line 40\u001b[1;36m\u001b[0m\n\u001b[1;33m    self.df.[\"tomorrow\"] = self.df.[\"close\"].shift(-1)\u001b[0m\n\u001b[1;37m            ^\u001b[0m\n\u001b[1;31mSyntaxError\u001b[0m\u001b[1;31m:\u001b[0m invalid syntax\n"
     ]
    }
   ],
   "source": [
    "import pandas as pd\n",
    "import numpy as np\n",
    "from sklearn.ensemble import RandomForestClassifier\n",
    "from sklearn.metrics import precision_score, accuracy_score, confusion_matrix, ConfusionMatrixDisplay\n",
    "import joblib\n",
    "\n",
    "class B3nellyExtendsSKLearn:\n",
    "    \n",
    "    def __init__(self, df=None):\n",
    "        if df is None:\n",
    "            df = pd.DataFrame()\n",
    "        self.df = df"
   ]
  },
  {
   "cell_type": "code",
   "execution_count": 3,
   "id": "b51ec974-f7d5-4d8f-b946-4e9e60008260",
   "metadata": {
    "execution": {
     "iopub.execute_input": "2023-04-27T00:37:32.644920Z",
     "iopub.status.busy": "2023-04-27T00:37:32.644920Z",
     "iopub.status.idle": "2023-04-27T00:37:32.658478Z",
     "shell.execute_reply": "2023-04-27T00:37:32.658478Z",
     "shell.execute_reply.started": "2023-04-27T00:37:32.644920Z"
    },
    "tags": []
   },
   "outputs": [
    {
     "name": "stdout",
     "output_type": "stream",
     "text": [
      "   a  c\n",
      "0  1  7\n",
      "1  2  8\n",
      "2  3  9\n"
     ]
    }
   ],
   "source": [
    "# Create a DataFrame\n",
    "data = {'A': [1, 2, 3], 'B': [4, 5, 6], 'C': [7, 8, 9]}\n",
    "df = pd.DataFrame(data)\n",
    "\n",
    "# Create an instance of B3nellyExtendsSKLearn\n",
    "my_instance = B3nellyExtendsSKLearn(df)\n",
    "\n",
    "# Pass a list of columns to remove\n",
    "my_instance.clean_df(remove_cols_by_names=['B'])\n",
    "\n",
    "# Check the resulting DataFrame\n",
    "print(my_instance.df)"
   ]
  },
  {
   "cell_type": "code",
   "execution_count": null,
   "id": "e68532f9-709c-447b-a9cd-a0e95b7d10ca",
   "metadata": {},
   "outputs": [],
   "source": []
  }
 ],
 "metadata": {
  "kernelspec": {
   "display_name": "Python 3 (ipykernel)",
   "language": "python",
   "name": "python3"
  },
  "language_info": {
   "codemirror_mode": {
    "name": "ipython",
    "version": 3
   },
   "file_extension": ".py",
   "mimetype": "text/x-python",
   "name": "python",
   "nbconvert_exporter": "python",
   "pygments_lexer": "ipython3",
   "version": "3.10.9"
  }
 },
 "nbformat": 4,
 "nbformat_minor": 5
}
